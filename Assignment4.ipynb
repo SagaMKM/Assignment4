{
 "cells": [
  {
   "cell_type": "code",
   "execution_count": 2,
   "metadata": {},
   "outputs": [],
   "source": [
    "import pandas as pd\n",
    "from sklearn.naive_bayes import GaussianNB\n",
    "from sklearn.metrics import accuracy_score\n",
    "from sklearn.metrics import confusion_matrix"
   ]
  },
  {
   "attachments": {},
   "cell_type": "markdown",
   "metadata": {},
   "source": [
    "### Task 1\n",
    "\n",
    "For the tennis example predict the class for the input ```{outlook = Overcast, temp = Hot, humidity = Normal, wind = Strong}```."
   ]
  },
  {
   "cell_type": "code",
   "execution_count": null,
   "metadata": {},
   "outputs": [],
   "source": []
  },
  {
   "attachments": {},
   "cell_type": "markdown",
   "metadata": {},
   "source": [
    "### Task 2\n",
    "\n",
    "The dataset ```lenses_train.csv``` contains a training dataset on contact lense type suitable for various kinds of patients. The file ```lenses_test.csv``` has a (very small) test dataset. A brief description of the variables is given in ```lenses.txt```. The last columns is the class to be predicted. \n",
    "\n",
    "Task is to build a naive Bayes classifier to predict the ```contact``` class. Use the ```lenses_test.csv``` to test your model. \n",
    "\n",
    "Because now all variables are of categorical type, use of counting to find the probabilities is applicable. The needed probabilities can be calculated manually or by using ```pandas``` dataframes methods. The latter should be less time consuming. \n"
   ]
  },
  {
   "cell_type": "code",
   "execution_count": null,
   "metadata": {},
   "outputs": [],
   "source": []
  },
  {
   "attachments": {},
   "cell_type": "markdown",
   "metadata": {},
   "source": [
    "### Task 3\n",
    "\n",
    "The dataset ```diabetes```is originally from the National Institute of Diabetes and Digestive and Kidney\n",
    "Diseases. The objective of the dataset is to diagnostically predict whether a patient has diabetes,\n",
    "based on certain diagnostic measurements included in the dataset. \n",
    "\n",
    "The task is to classify the patients either Diabetes (1) or no diabetes (0).\n",
    "\n",
    "Split the data 80% for training and 20% for test.\n",
    "\n",
    "Use GaussianNB, because the variables are now numeric.\n",
    "\n",
    "You can start with all variables in the model. Then start dropping the variables and look whether the model will improve ofr get worse.\n",
    "\n",
    "\n",
    "![img](https://i.imgur.com/isADRJf.png)\n"
   ]
  },
  {
   "cell_type": "code",
   "execution_count": null,
   "metadata": {},
   "outputs": [],
   "source": []
  }
 ],
 "metadata": {
  "kernelspec": {
   "display_name": "base",
   "language": "python",
   "name": "python3"
  },
  "language_info": {
   "codemirror_mode": {
    "name": "ipython",
    "version": 3
   },
   "file_extension": ".py",
   "mimetype": "text/x-python",
   "name": "python",
   "nbconvert_exporter": "python",
   "pygments_lexer": "ipython3",
   "version": "3.9.12"
  },
  "orig_nbformat": 4
 },
 "nbformat": 4,
 "nbformat_minor": 2
}
